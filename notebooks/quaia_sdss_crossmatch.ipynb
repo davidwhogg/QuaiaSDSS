{
 "cells": [
  {
   "cell_type": "markdown",
   "id": "7040ddbc-eb80-42d2-bf9f-544b89d1fdbd",
   "metadata": {},
   "source": [
    "# Match Quaia to (all) SDSS spectra.\n",
    "\n",
    "In support of an *SDSS-V* spare-fiber proposal.\n",
    "\n",
    "## License:\n",
    "Copyright 2024 the authors all rights reserved.\n",
    "\n",
    "## Authors:\n",
    "- **Kate Storey-Fisher** (DIPC), working as volunteeer (!)\n",
    "- **David W. Hogg** (Flatiron)\n",
    "\n",
    "## Projects:\n",
    "- Establish a target list for a possible *SDSS-V* spare-fiber program.\n",
    "- Make plots relevant to that spare-fiber proposal.\n",
    "\n",
    "## Bugs and known issues:\n",
    "- This assumes that the DR16 \"superset\" file contains anything that might be relevant. This is probably false in detail."
   ]
  },
  {
   "cell_type": "code",
   "execution_count": null,
   "id": "26c424c9",
   "metadata": {},
   "outputs": [],
   "source": [
    "import numpy as np\n",
    "import os\n",
    "\n",
    "import matplotlib as mpl\n",
    "import matplotlib.pyplot as plt\n",
    "%matplotlib inline\n",
    "mpl.rcParams['figure.dpi'] = 150\n",
    "\n",
    "import astropy\n",
    "from astropy.table import Table, join, vstack\n",
    "from astropy import units as u\n",
    "from astropy.coordinates import SkyCoord\n",
    "from astropy.io import fits"
   ]
  },
  {
   "cell_type": "markdown",
   "id": "a8fec6f7",
   "metadata": {},
   "source": [
    "## Download and read data\n",
    "This will take a while the first time you run it."
   ]
  },
  {
   "cell_type": "code",
   "execution_count": null,
   "id": "5264743f-0e41-4366-b3dc-369ac90fa7cb",
   "metadata": {},
   "outputs": [],
   "source": [
    "dirstr = \"../data/\""
   ]
  },
  {
   "cell_type": "code",
   "execution_count": null,
   "id": "0d283321-60cd-445c-be18-36bced3d6971",
   "metadata": {},
   "outputs": [],
   "source": [
    "fn = \"quaia_G20.5.fits\"\n",
    "dfn = dirstr + fn\n",
    "cmd = \"curl -s -o \" + dfn + \" https://zenodo.org/records/8060755/files/\" + fn\n",
    "if not os.path.isfile(dfn + \".gz\"):\n",
    "    print(cmd)\n",
    "    os.system(cmd)\n",
    "    os.system(\"gzip -fv --best \" + dfn)\n",
    "dfn = dfn + \".gz\"\n",
    "foo = os.system(\"ls -al \" + dfn)"
   ]
  },
  {
   "cell_type": "code",
   "execution_count": null,
   "id": "50aa478a",
   "metadata": {},
   "outputs": [],
   "source": [
    "quaia = Table.read(dfn)\n",
    "print(\"Columns:\", quaia.columns)\n",
    "print(\"N =\", len(quaia))"
   ]
  },
  {
   "cell_type": "code",
   "execution_count": null,
   "id": "81784b62-e19d-4ba8-819e-0e926f49e8c6",
   "metadata": {},
   "outputs": [],
   "source": [
    "fns = \"DR16Q_Superset_v3.fits\"\n",
    "dfns = dirstr + fns\n",
    "cmd = \"curl -s -o \" + dfns + \" https://data.sdss.org/sas/dr16/eboss/qso/DR16Q/\" + fns\n",
    "if not os.path.isfile(dfns + \".gz\"):\n",
    "    print(cmd)\n",
    "    os.system(cmd)\n",
    "    os.system(\"gzip -fv --best \" + dfns)\n",
    "dfns = dfns + \".gz\"\n",
    "foo = os.system(\"ls -al \" + dfns)"
   ]
  },
  {
   "cell_type": "code",
   "execution_count": null,
   "id": "32c22500",
   "metadata": {},
   "outputs": [],
   "source": [
    "sdss = Table.read(dfns)\n",
    "sdss = sdss[sdss['OBJID'].mask==False] #remove ones with no objid\n",
    "print(\"Columns:\", sdss.columns)\n",
    "print(\"N =\", len(sdss))"
   ]
  },
  {
   "cell_type": "markdown",
   "id": "3b8b47fe",
   "metadata": {},
   "source": [
    "## Do cross-matching"
   ]
  },
  {
   "cell_type": "code",
   "execution_count": null,
   "id": "61be987e",
   "metadata": {},
   "outputs": [],
   "source": [
    "def cross_match(ra1, dec1, ra2, dec2, separation):\n",
    "    coords1 = SkyCoord(ra=ra1, dec=dec1, frame='icrs')    \n",
    "    coords2 = SkyCoord(ra=ra2, dec=dec2, frame='icrs') \n",
    "    cross = astropy.coordinates.search_around_sky(coords1, coords2, separation) \n",
    "    index_list_1in2, index_list_2in1 = cross[0], cross[1] \n",
    "    return index_list_1in2, index_list_2in1"
   ]
  },
  {
   "cell_type": "code",
   "execution_count": null,
   "id": "af2a1ea7",
   "metadata": {},
   "outputs": [],
   "source": [
    "# Perform cross-match; 1 arcsec is a reasonable (but MAGIC) separation\n",
    "separation = 1*u.arcsec\n",
    "quaiaINsdss, sdssINquaia = cross_match(quaia['ra'], quaia['dec'],\n",
    "                                    sdss['RA']*u.degree, sdss['DEC']*u.degree,\n",
    "                                    separation=separation)\n",
    "print(len(quaiaINsdss))"
   ]
  },
  {
   "cell_type": "code",
   "execution_count": null,
   "id": "36d0335b-7941-49c2-b8b8-7c59bb544b32",
   "metadata": {},
   "outputs": [],
   "source": [
    "# Make non-match list\n",
    "quaiaNOTINsdss = np.ones(len(quaia)).astype(bool)\n",
    "quaiaNOTINsdss[quaiaINsdss] = False\n",
    "print(np.sum(quaiaNOTINsdss))"
   ]
  },
  {
   "cell_type": "code",
   "execution_count": null,
   "id": "8b92d43b",
   "metadata": {},
   "outputs": [],
   "source": [
    "quaia_exsdss = quaia[quaiaNOTINsdss]\n",
    "print(len(quaia_exsdss))"
   ]
  },
  {
   "cell_type": "markdown",
   "id": "f353868e-df31-4d9f-b220-f5b364e21c64",
   "metadata": {},
   "source": [
    "## Make plots"
   ]
  },
  {
   "cell_type": "code",
   "execution_count": null,
   "id": "a95fe445-912b-4185-b331-0f252cd60b0e",
   "metadata": {},
   "outputs": [],
   "source": [
    "plt.scatter(quaia['ra'], np.sin(quaia['dec'] * np.pi / 180.), c=\"k\", s=0.1, alpha=0.1)\n",
    "plt.xlabel(\"RA (deg)\")\n",
    "plt.ylabel(\"sin(Dec)\")\n",
    "plt.title(\"all of Quaia\")"
   ]
  },
  {
   "cell_type": "code",
   "execution_count": null,
   "id": "e95c6fb2-ca7e-4f94-8198-1a26d6665e98",
   "metadata": {},
   "outputs": [],
   "source": [
    "plt.scatter(quaia_exsdss['ra'], np.sin(quaia_exsdss['dec'] * np.pi / 180.), c=\"k\", s=0.1, alpha=0.1)\n",
    "plt.xlabel(\"RA (deg)\")\n",
    "plt.ylabel(\"sin(Dec)\")\n",
    "plt.xlim(0., 360.)\n",
    "plt.ylim(-1., 1.)\n",
    "title = \"Quaia (ex SDSS) target list\"\n",
    "plt.title(title)\n",
    "plt.savefig(\"quaia_exsdss.png\")"
   ]
  },
  {
   "cell_type": "code",
   "execution_count": null,
   "id": "03de349a-c30c-45a8-9a67-794e2dbb658c",
   "metadata": {},
   "outputs": [],
   "source": [
    "plt.scatter(quaia_exsdss['phot_g_mean_mag'], quaia_exsdss['phot_bp_mean_mag'] - quaia_exsdss['phot_rp_mean_mag'],\n",
    "            c=\"k\", s=0.1, alpha=0.1)\n",
    "plt.xlabel(\"Gaia G (mag)\")\n",
    "plt.ylabel(\"Gaia B - R (mag)\")\n",
    "plt.xlim(14.5, 20.5)\n",
    "plt.ylim(-0.5, 2.5)\n",
    "plt.title(title)\n",
    "plt.savefig(\"quaia_exsdss_mags.png\")"
   ]
  },
  {
   "cell_type": "code",
   "execution_count": null,
   "id": "eda87f05-82e3-49ba-bff1-b89d1de5e4cb",
   "metadata": {},
   "outputs": [],
   "source": [
    "plt.hist(quaia_exsdss['phot_g_mean_mag'], bins=np.arange(13., 22., 0.5))\n",
    "plt.xlabel(\"Gaia G (mag)\")\n",
    "plt.ylabel(\"number per half-mag bin\")\n",
    "plt.xlim(14.5, 20.5)\n",
    "plt.ylim(1e1, 1e6)\n",
    "plt.semilogy()\n",
    "plt.title(title)\n",
    "plt.savefig(\"quaia_exsdss_mag_hist.png\")"
   ]
  },
  {
   "cell_type": "markdown",
   "id": "7735e32e-c2fe-49cd-bf51-4dff320d6c10",
   "metadata": {},
   "source": [
    "## Write target-list file"
   ]
  },
  {
   "cell_type": "code",
   "execution_count": null,
   "id": "790a42a7-7191-4cc3-9ef6-9435559c61cf",
   "metadata": {},
   "outputs": [],
   "source": [
    "print(quaia_exsdss.dtype)\n",
    "print(quaia_exsdss.dtype.name)"
   ]
  },
  {
   "cell_type": "code",
   "execution_count": null,
   "id": "e16ee914-a3d2-4a9e-a8fc-269fba05ff78",
   "metadata": {},
   "outputs": [],
   "source": [
    "fn = \"quaia_exsdss.fits\"\n",
    "dfn = dirstr + fn\n",
    "quaia_exsdss.write(dfn, format=\"fits\")\n",
    "foo = os.system(\"gzip -fv --best \" + dfn)"
   ]
  },
  {
   "cell_type": "code",
   "execution_count": null,
   "id": "db0b87ef-21b5-4ded-8b9b-f4281800a87a",
   "metadata": {},
   "outputs": [],
   "source": []
  }
 ],
 "metadata": {
  "kernelspec": {
   "display_name": "Python 3 (ipykernel)",
   "language": "python",
   "name": "python3"
  },
  "language_info": {
   "codemirror_mode": {
    "name": "ipython",
    "version": 3
   },
   "file_extension": ".py",
   "mimetype": "text/x-python",
   "name": "python",
   "nbconvert_exporter": "python",
   "pygments_lexer": "ipython3",
   "version": "3.9.6"
  }
 },
 "nbformat": 4,
 "nbformat_minor": 5
}
